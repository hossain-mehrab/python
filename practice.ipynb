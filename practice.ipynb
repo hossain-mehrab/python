{
 "cells": [
  {
   "cell_type": "code",
   "execution_count": 4,
   "id": "c49f62de",
   "metadata": {},
   "outputs": [
    {
     "name": "stdout",
     "output_type": "stream",
     "text": [
      "30\n",
      "-10\n",
      "200\n",
      "0.5\n",
      "False\n",
      "True\n",
      "False\n",
      "True\n"
     ]
    }
   ],
   "source": [
    "# Operators in Python\n",
    "a = 10\n",
    "b = 20\n",
    "## + - * / Arithmetic\n",
    "print(a+b)\n",
    "print(a-b)\n",
    "print(a*b)\n",
    "print(a/b)\n",
    "## > < == != Logical\n",
    "print(a>b)\n",
    "print(a<b)\n",
    "print(a==b)\n",
    "print(a!=b)"
   ]
  },
  {
   "cell_type": "code",
   "execution_count": null,
   "id": "11c911af",
   "metadata": {},
   "outputs": [],
   "source": [
    "name2 = \"Mehrab Hossain\"\n",
    "name2\n",
    "type (name2)"
   ]
  }
 ],
 "metadata": {
  "interpreter": {
   "hash": "5eba92b0607be9b47430fa545f65a1cfd48b8d17dfd7ed18f97247de281d38e5"
  },
  "kernelspec": {
   "display_name": "Python 3.10.9 ('base')",
   "language": "python",
   "name": "python3"
  },
  "language_info": {
   "codemirror_mode": {
    "name": "ipython",
    "version": 3
   },
   "file_extension": ".py",
   "mimetype": "text/x-python",
   "name": "python",
   "nbconvert_exporter": "python",
   "pygments_lexer": "ipython3",
   "version": "3.10.9"
  }
 },
 "nbformat": 4,
 "nbformat_minor": 5
}
